{
 "cells": [
  {
   "cell_type": "code",
   "execution_count": 56,
   "metadata": {},
   "outputs": [],
   "source": [
    "import torch\n",
    "from torch import nn\n",
    "import torchvision\n",
    "import torch.nn.functional as F\n",
    "from collections import OrderedDict\n",
    "import math"
   ]
  },
  {
   "cell_type": "code",
   "execution_count": 57,
   "metadata": {},
   "outputs": [],
   "source": [
    "cqt = torch.randn((2, 1, 71, 500))"
   ]
  },
  {
   "cell_type": "code",
   "execution_count": 62,
   "metadata": {},
   "outputs": [
    {
     "data": {
      "text/plain": [
       "torch.Size([2, 64, 60, 426])"
      ]
     },
     "execution_count": 62,
     "metadata": {},
     "output_type": "execute_result"
    }
   ],
   "source": [
    "conv1 = nn.Conv2d(in_channels=1, out_channels=64, kernel_size=(12,75),stride=(1,1), bias=False)\n",
    "x = conv1(cqt)\n",
    "x.shape"
   ]
  },
  {
   "cell_type": "code",
   "execution_count": 63,
   "metadata": {},
   "outputs": [
    {
     "data": {
      "text/plain": [
       "torch.Size([2, 64, 5, 424])"
      ]
     },
     "execution_count": 63,
     "metadata": {},
     "output_type": "execute_result"
    }
   ],
   "source": [
    "conv2 = nn.Conv2d(in_channels=64, out_channels=64, kernel_size=(12,3),stride=(12,1), bias=False)\n",
    "x2 = conv2(x)\n",
    "x2.shape"
   ]
  },
  {
   "cell_type": "code",
   "execution_count": 14,
   "metadata": {},
   "outputs": [
    {
     "data": {
      "text/plain": [
       "torch.Size([2, 64, 1, 424])"
      ]
     },
     "execution_count": 14,
     "metadata": {},
     "output_type": "execute_result"
    }
   ],
   "source": [
    "pool = nn.AdaptiveMaxPool2d((1,None))\n",
    "pool(x2).shape"
   ]
  },
  {
   "cell_type": "code",
   "execution_count": null,
   "metadata": {},
   "outputs": [],
   "source": []
  },
  {
   "cell_type": "markdown",
   "metadata": {},
   "source": [
    "# CQT Model is here"
   ]
  },
  {
   "cell_type": "code",
   "execution_count": 60,
   "metadata": {},
   "outputs": [],
   "source": [
    "def SPP(x, pool_size):\n",
    "    N, C, H, W = x.size()\n",
    "    for i in range(len(pool_size)):\n",
    "        maxpool = nn.AdaptiveMaxPool2d((H, pool_size[i]))\n",
    "        if i==0: spp = maxpool(x).view(N, -1)\n",
    "        else: spp = torch.cat((spp, maxpool(x).view(N, -1)),1)\n",
    "    return spp\n",
    "\n",
    "\n",
    "class CQTSPPNet(nn.Module):\n",
    "    def __init__(self):\n",
    "        super().__init__()\n",
    "        # input N, C, 84, L\n",
    "        # First convolution\n",
    "        #频带卷积结构，输入nx84,经过75x12的卷积核，得到[N, C, 73, L]的特征\n",
    "        #再经过12x1的池化操作得到[64, 1, n-d+1 x1 ]\n",
    "        self.features = nn.Sequential(OrderedDict([\n",
    "            ('conv0', nn.Conv2d(in_channels=1, out_channels= 64,kernel_size=(12, 75),\n",
    "                                stride=(1, 1), bias=False)),\n",
    "            ('norm0', nn.BatchNorm2d(64)),\n",
    "            ('relu0', nn.ReLU(inplace=True)),\n",
    "            ('conv1', nn.Conv2d(in_channels=64, out_channels=128, kernel_size=(12,3), \n",
    "                                stride=(12,1), bias=False)),\n",
    "            ('norm1', nn.BatchNorm2d(128)),\n",
    "            ('relu1', nn.ReLU(inplace=True)),\n",
    "            ('pool0', nn.AdaptiveMaxPool2d((1,None))),\n",
    "        ]))\n",
    "        self.conv = nn.Sequential(OrderedDict([\n",
    "            ('conv1', nn.Conv2d(in_channels=128, out_channels=256,\n",
    "                                kernel_size=(1,3), stride=1,bias=False)),\n",
    "            ('norm1', nn.BatchNorm2d(256)),\n",
    "            ('relu1', nn.ReLU(inplace=True)),\n",
    "        ]))\n",
    "        #self.spp = SPP([32,16,10,8,6,4,2,1])\n",
    "        self.fc0 = nn.Linear(20224, 300)\n",
    "        self.fc1 = nn.Linear(300, 10000)\n",
    "    def forward(self, x):\n",
    "        # input [N, C, H, W] (W = 396)\n",
    "        N = x.size()[0]\n",
    "        print(x.shape)\n",
    "        x = self.features(x) # [N, 128, 1, W - 75 + 1]\n",
    "        print(x.shape)\n",
    "        x = self.conv(x) #  [N, 256, 1, W - 75 +1 - 3 + 1]\n",
    "        print(x.shape)\n",
    "        x = SPP(x, [32,16,10,8,6,4,2,1]) # [N, 256, 1, sum()=79]\n",
    "        print(x.shape)\n",
    "        x = x.view(N,-1)\n",
    "        feature = self.fc0(x)\n",
    "\n",
    "        x = self.fc1(feature)\n",
    "\n",
    "        return x, feature"
   ]
  },
  {
   "cell_type": "code",
   "execution_count": 61,
   "metadata": {},
   "outputs": [
    {
     "name": "stdout",
     "output_type": "stream",
     "text": [
      "torch.Size([2, 1, 71, 500])\n",
      "torch.Size([2, 128, 1, 424])\n",
      "torch.Size([2, 256, 1, 422])\n",
      "torch.Size([2, 20224])\n"
     ]
    }
   ],
   "source": [
    "net = CQTSPPNet()\n",
    "x, f = net(cqt)"
   ]
  },
  {
   "cell_type": "code",
   "execution_count": null,
   "metadata": {},
   "outputs": [],
   "source": []
  },
  {
   "cell_type": "code",
   "execution_count": null,
   "metadata": {},
   "outputs": [],
   "source": []
  },
  {
   "cell_type": "code",
   "execution_count": null,
   "metadata": {},
   "outputs": [],
   "source": []
  },
  {
   "cell_type": "code",
   "execution_count": 1,
   "metadata": {},
   "outputs": [
    {
     "data": {
      "text/plain": [
       "(84, 520)"
      ]
     },
     "execution_count": 1,
     "metadata": {},
     "output_type": "execute_result"
    }
   ],
   "source": [
    "import numpy as np\n",
    "a = np.load('../data/youtube_cqt_npy/8352_1.npy')\n",
    "a.shape"
   ]
  },
  {
   "cell_type": "code",
   "execution_count": 52,
   "metadata": {},
   "outputs": [],
   "source": [
    "    import numpy as np\n",
    "    dis2d = np.array([[1, 2, 3], [4, 5, 6], [7, 8, 9]])\n",
    "    R_m = np.mean(dis2d, axis=1, keepdims=True)\n",
    "    R = dis2d - R_m\n",
    "    B = R / (np.linalg.norm(R, axis=1, keepdims=True) + 1e-20)\n",
    "    dis2d = 1 - np.matmul(B, B.T)"
   ]
  },
  {
   "cell_type": "code",
   "execution_count": 53,
   "metadata": {},
   "outputs": [
    {
     "data": {
      "text/plain": [
       "array([[2.],\n",
       "       [5.],\n",
       "       [8.]])"
      ]
     },
     "execution_count": 53,
     "metadata": {},
     "output_type": "execute_result"
    }
   ],
   "source": [
    "R_m"
   ]
  },
  {
   "cell_type": "code",
   "execution_count": 54,
   "metadata": {},
   "outputs": [
    {
     "data": {
      "text/plain": [
       "array([[-1.,  0.,  1.],\n",
       "       [-1.,  0.,  1.],\n",
       "       [-1.,  0.,  1.]])"
      ]
     },
     "execution_count": 54,
     "metadata": {},
     "output_type": "execute_result"
    }
   ],
   "source": [
    "R"
   ]
  },
  {
   "cell_type": "code",
   "execution_count": 49,
   "metadata": {},
   "outputs": [
    {
     "data": {
      "text/plain": [
       "array([[-0.57735027, -0.57735027, -0.57735027],\n",
       "       [ 0.        ,  0.        ,  0.        ],\n",
       "       [ 0.57735027,  0.57735027,  0.57735027]])"
      ]
     },
     "execution_count": 49,
     "metadata": {},
     "output_type": "execute_result"
    }
   ],
   "source": [
    "B"
   ]
  },
  {
   "cell_type": "code",
   "execution_count": 45,
   "metadata": {},
   "outputs": [
    {
     "data": {
      "text/plain": [
       "0.5773502691896257"
      ]
     },
     "execution_count": 45,
     "metadata": {},
     "output_type": "execute_result"
    }
   ],
   "source": [
    "np.sqrt(1 / 3)"
   ]
  },
  {
   "cell_type": "code",
   "execution_count": null,
   "metadata": {},
   "outputs": [],
   "source": []
  }
 ],
 "metadata": {
  "kernelspec": {
   "display_name": "Python 3",
   "language": "python",
   "name": "python3"
  },
  "language_info": {
   "codemirror_mode": {
    "name": "ipython",
    "version": 3
   },
   "file_extension": ".py",
   "mimetype": "text/x-python",
   "name": "python",
   "nbconvert_exporter": "python",
   "pygments_lexer": "ipython3",
   "version": "3.6.4"
  }
 },
 "nbformat": 4,
 "nbformat_minor": 2
}
